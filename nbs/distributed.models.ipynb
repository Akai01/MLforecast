{
 "cells": [
  {
   "cell_type": "code",
   "execution_count": null,
   "id": "533f8f53-cfa2-4560-a28f-1ce032a0949d",
   "metadata": {},
   "outputs": [],
   "source": [
    "#default_exp distributed.models"
   ]
  },
  {
   "cell_type": "code",
   "execution_count": null,
   "id": "6eeeb53d-de08-4d35-b56f-4cda6954869d",
   "metadata": {},
   "outputs": [],
   "source": [
    "%load_ext autoreload\n",
    "%autoreload 2"
   ]
  },
  {
   "cell_type": "code",
   "execution_count": null,
   "id": "6e70b46a-41fc-41c0-bf10-1d0dbfe1e6f1",
   "metadata": {},
   "outputs": [],
   "source": [
    "#hide\n",
    "import warnings\n",
    "\n",
    "warnings.simplefilter('ignore', UserWarning)"
   ]
  },
  {
   "cell_type": "markdown",
   "id": "565f33b4-bbf9-482d-9ce0-15aa8e12f952",
   "metadata": {},
   "source": [
    "# Distributed models\n",
    "\n",
    "> Wrappers around the dask-based distributed training implementations of LightGBM and XGBoost"
   ]
  },
  {
   "cell_type": "code",
   "execution_count": null,
   "id": "dbae0b4a-545c-472f-8ead-549830fb071c",
   "metadata": {},
   "outputs": [],
   "source": [
    "#export\n",
    "from typing import Callable, Dict, List, Optional, Tuple\n",
    "\n",
    "import dask.dataframe as dd\n",
    "import lightgbm as lgb\n",
    "import xgboost as xgb\n",
    "from dask.distributed import Client, default_client, Future\n",
    "\n",
    "from mlforecast.core import predictions_flow"
   ]
  },
  {
   "cell_type": "code",
   "execution_count": null,
   "id": "e3fdb52c-8720-45af-91fc-29471d711606",
   "metadata": {},
   "outputs": [],
   "source": [
    "from window_ops.expanding import expanding_mean\n",
    "from window_ops.rolling import rolling_mean, rolling_std\n",
    "\n",
    "from mlforecast.distributed.core import distributed_preprocess\n",
    "from mlforecast.utils import generate_daily_series"
   ]
  },
  {
   "cell_type": "code",
   "execution_count": null,
   "id": "1384220c-4b88-4b98-b516-67469781fc12",
   "metadata": {},
   "outputs": [],
   "source": [
    "#exporti\n",
    "class BaseDistributedModel:\n",
    "    \n",
    "    def __init__(self, model, client: Optional[Client] = None):\n",
    "        self.model = model\n",
    "        self.client = client or default_client()\n",
    "        \n",
    "    def fit(self, X: dd.DataFrame, y: dd.Series, **kwargs):\n",
    "        self.model.fit(X, y, **kwargs)\n",
    "        return self\n",
    "    \n",
    "    @property\n",
    "    def model_(self):\n",
    "        raise NotImplementedError\n",
    "        \n",
    "    def predict(self,\n",
    "                series: List[Future],\n",
    "                horizon: int,\n",
    "                divisions: Optional[Tuple] = None,\n",
    "                predict_fn: Optional[Callable] = predictions_flow) -> dd.DataFrame:\n",
    "        model_future = self.client.scatter(self.model_, broadcast=True)\n",
    "        predictions_futures = self.client.map(predict_fn,\n",
    "                                              series,\n",
    "                                              model=model_future,\n",
    "                                              horizon=horizon)\n",
    "        meta = self.client.submit(lambda x: x.head(), predictions_futures[0]).result()\n",
    "        return dd.from_delayed(predictions_futures, meta=meta, divisions=divisions)\n",
    "    \n",
    "    def __repr__(self) -> str:\n",
    "        return self.model.__repr__()"
   ]
  },
  {
   "cell_type": "code",
   "execution_count": null,
   "id": "ef31c6d5-7fb6-4a08-8d72-bfcdc1ae8540",
   "metadata": {},
   "outputs": [],
   "source": [
    "#export\n",
    "class LGBMForecast(BaseDistributedModel):\n",
    "    \n",
    "    def __init__(self, params: Dict = {}, client: Optional[Client] = None):\n",
    "        super().__init__(lgb.DaskLGBMRegressor(**params), client)\n",
    "        \n",
    "    @property\n",
    "    def model_(self):\n",
    "        return self.model.booster_"
   ]
  },
  {
   "cell_type": "code",
   "execution_count": null,
   "id": "bcdf7afd-1052-4a1d-ab87-740de5af1aa0",
   "metadata": {},
   "outputs": [],
   "source": [
    "#export\n",
    "class XGBForecast(BaseDistributedModel):\n",
    "    \n",
    "    def __init__(self, params: Dict = {}, client: Optional[Client] = None):\n",
    "        super().__init__(xgb.dask.DaskXGBRegressor(**params), client)\n",
    "        \n",
    "    @property\n",
    "    def model_(self):\n",
    "        return self.model.get_booster()"
   ]
  },
  {
   "cell_type": "code",
   "execution_count": null,
   "id": "3397eb84-f968-4336-ab22-3b3c11af9c2f",
   "metadata": {},
   "outputs": [],
   "source": [
    "client = Client(n_workers=2)"
   ]
  },
  {
   "cell_type": "code",
   "execution_count": null,
   "id": "6ab0ef32-21b2-4f81-bf98-792ba7583db4",
   "metadata": {},
   "outputs": [],
   "source": [
    "series = generate_daily_series(100, n_static_features=2)\n",
    "partitioned_series = dd.from_pandas(series, npartitions=2)"
   ]
  },
  {
   "cell_type": "code",
   "execution_count": null,
   "id": "11fd7ee6-e478-436e-88e9-f4c1351fb745",
   "metadata": {},
   "outputs": [],
   "source": [
    "flow_config = dict(\n",
    "    freq='D',\n",
    "    lags=[7, 14],\n",
    "    lag_transforms={\n",
    "        1: [\n",
    "            expanding_mean\n",
    "        ],\n",
    "        7: [\n",
    "            (rolling_mean, 7), \n",
    "            (rolling_std, 7),\n",
    "        ]\n",
    "    },\n",
    "    date_features=['dayofweek', 'month', 'year'],\n",
    "    num_threads=2,\n",
    ")"
   ]
  },
  {
   "cell_type": "code",
   "execution_count": null,
   "id": "f4c6496b-700a-48a8-aafd-9db73328f8b5",
   "metadata": {},
   "outputs": [],
   "source": [
    "ts_futures, train_ddf = distributed_preprocess(partitioned_series, flow_config)\n",
    "X, y = train_ddf.drop(columns=['ds', 'y']), train_ddf.y"
   ]
  },
  {
   "cell_type": "code",
   "execution_count": null,
   "id": "4a1e0bbc-27d4-49a7-b957-d3308fa79902",
   "metadata": {},
   "outputs": [],
   "source": [
    "model = LGBMForecast().fit(X, y)\n",
    "assert model.predict(ts_futures, 7).compute().equals(model.predict(ts_futures, 7).compute())"
   ]
  },
  {
   "cell_type": "code",
   "execution_count": null,
   "id": "94ee6b66-9638-44c2-b62c-5ca5a11b07d6",
   "metadata": {},
   "outputs": [],
   "source": [
    "for col in series.select_dtypes(include='category'):\n",
    "    series[col] = series[col].cat.codes\n",
    "partitioned_series = dd.from_pandas(series, npartitions=2)\n",
    "ts_futures, train_ddf = distributed_preprocess(partitioned_series, flow_config)\n",
    "X, y = train_ddf.drop(columns=['ds', 'y']), train_ddf.y"
   ]
  },
  {
   "cell_type": "code",
   "execution_count": null,
   "id": "831094c1-5659-47ef-bf84-af8761f489cf",
   "metadata": {},
   "outputs": [],
   "source": [
    "model = XGBForecast().fit(X, y)\n",
    "assert model.predict(ts_futures, 7).compute().equals(model.predict(ts_futures, 7).compute())"
   ]
  },
  {
   "cell_type": "code",
   "execution_count": null,
   "id": "dc000ef9-b3ad-4b02-87ca-cb51c41f6769",
   "metadata": {},
   "outputs": [],
   "source": [
    "client.close()"
   ]
  }
 ],
 "metadata": {
  "kernelspec": {
   "display_name": "Python 3",
   "language": "python",
   "name": "python3"
  }
 },
 "nbformat": 4,
 "nbformat_minor": 5
}
